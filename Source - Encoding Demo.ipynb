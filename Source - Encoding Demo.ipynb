{
 "cells": [
  {
   "cell_type": "markdown",
   "metadata": {},
   "source": [
    "<center> \n",
    "    <h1> Steganography Project </h1> \n",
    "    <h3> CS07552 - Cryptographic Algorithms </h3>\n",
    "    <h3> Benny Liang </h3>\n",
    "</center>"
   ]
  },
  {
   "cell_type": "markdown",
   "metadata": {},
   "source": [
    "### Importing libraries"
   ]
  },
  {
   "cell_type": "code",
   "execution_count": 1,
   "metadata": {},
   "outputs": [
    {
     "name": "stdout",
     "output_type": "stream",
     "text": [
      "System information: 3.7.4 (default, Aug  9 2019, 18:34:13) [MSC v.1915 64 bit (AMD64)]\n"
     ]
    }
   ],
   "source": [
    "import os\n",
    "import sys\n",
    "import re\n",
    "from typing import Union\n",
    "from PIL import Image\n",
    "import numpy as np\n",
    "import hashlib\n",
    "import base64\n",
    "from random import seed, randint\n",
    "from Crypto import Random\n",
    "from Crypto.Cipher import AES\n",
    "from Crypto.Hash import SHA512, SHA384, SHA256, SHA224\n",
    "from cryptography.hazmat.primitives import padding\n",
    "import cv2\n",
    "\n",
    "print(\"System information: {0}\".format(sys.version))"
   ]
  },
  {
   "cell_type": "markdown",
   "metadata": {},
   "source": [
    "### Input variables"
   ]
  },
  {
   "cell_type": "code",
   "execution_count": 2,
   "metadata": {},
   "outputs": [],
   "source": [
    "BLOCK_SIZE = 128\n",
    "MAX_NUM_BLOCKS_LENGTH = 16\n",
    "ORIGINAL_IMAGE_PATH = \"C:/Users/pawan/Desktop/Crytographic_algorithm/original.png\"\n",
    "MODIFIED_IMAGE_DIR = \"C:/Users/pawan/Desktop/Crytographic_algorithm/\"\n",
    "PASSPHRASE = \"CXSOToq3oY0r9wm1P0T1\"\n",
    "MESSAGE = \"Two households, both alike in dignity, In fair Verona, where we lay our scene, From ancient grudge break to new mutiny, Where civil blood makes civil hands unclean. From forth the fatal loins of these two foes A pair of star-cross'd lovers take their life; Whose misadventured piteous overthrows Do with their death bury their parents' strife. The fearful passage of their death-mark'd love, And the continuance of their parents' rage, Which, but their children's end, nought could remove, Is now the two hours' traffic of our stage; The which if you with patient ears attend, What here shall miss, our toil shall strive to mend.Two households, both alike in dignity, In fair Verona, where we lay our scene, From ancient grudge break to new mutiny, Where civil blood makes civil hands unclean. From forth the fatal loins of these two foes A pair of star-cross'd lovers take their life; Whose misadventured piteous overthrows Do with their death bury their parents' strife. The fearful passage of their death-mark'd love, And the continuance of their parents' rage, Which, but their children's end, nought could remove, Is now the two hours' traffic of our stage; The which if you with patient ears attend, What here shall miss, our toil shall strive to mend.Two households, both alike in dignity, In fair Verona, where we lay our scene, From ancient grudge break to new mutiny, Where civil blood makes civil hands unclean. From forth the fatal loins of these two foes A pair of star-cross'd lovers take their life; Whose misadventured piteous overthrows Do with their death bury their parents' strife. The fearful passage of their death-mark'd love, And the continuance of their parents' rage, Which, but their children's end, nought could remove, Is now the two hours' traffic of our stage; The which if you with patient ears attend, What here shall miss, our toil shall strive to mend.Two households, both alike in dignity, In fair Verona, where we lay our scene, From ancient grudge break to new mutiny, Where civil blood makes civil hands unclean. From forth the fatal loins of these two foes A pair of star-cross'd lovers take their life; Whose misadventured piteous overthrows Do with their death bury their parents' strife. The fearful passage of their death-mark'd love, And the continuance of their parents' rage, Which, but their children's end, nought could remove, Is now the two hours' traffic of our stage; The which if you with patient ears attend, What here shall miss, our toil shall strive to mend.Two households, both alike in dignity, In fair Verona, where we lay our scene, From ancient grudge break to new mutiny, Where civil blood makes civil hands unclean. From forth the fatal loins of these two foes A pair of star-cross'd lovers take their life; Whose misadventured piteous overthrows Do with their death bury their parents' strife. The fearful passage of their death-mark'd love, And the continuance of their parents' rage, Which, but their children's end, nought could remove, Is now the two hours' traffic of our stage; The which if you with patient ears attend, What here shall miss, our toil shall strive to mend.\"\n",
    "\n",
    "MESSAGE = MESSAGE.encode('utf-8')\n",
    "PASSPHRASE = PASSPHRASE.encode('utf-8')\n",
    "IMAGE_NAME = re.search(r'(\\.*?).png', ORIGINAL_IMAGE_PATH).group(1)\n",
    "MODIFIED_IMAGE_PATH = \"{0}{1}modified.png\".format(MODIFIED_IMAGE_DIR, IMAGE_NAME)"
   ]
  },
  {
   "cell_type": "code",
   "execution_count": 3,
   "metadata": {},
   "outputs": [],
   "source": [
    "with open('input.txt', 'rb') as file:\n",
    "    MESSAGE = file.read()"
   ]
  },
  {
   "cell_type": "markdown",
   "metadata": {},
   "source": [
    "### Viewing image details"
   ]
  },
  {
   "cell_type": "code",
   "execution_count": 4,
   "metadata": {},
   "outputs": [
    {
     "name": "stdout",
     "output_type": "stream",
     "text": [
      "<PIL.PngImagePlugin.PngImageFile image mode=RGB size=509x340 at 0x1F4825DF8C8>\n"
     ]
    }
   ],
   "source": [
    "image = Image.open(\"C:/Users/pawan/Desktop/Crytographic_algorithm/original.png\")\n",
    "assert image.format == \"PNG\", \"Please use a PNG instead of a {0:s}\".format(image.format)\n",
    "assert image.mode == \"RGB\" or image.mode == \"RGBA\", \"Please use a RGB image instead of a {0:s}\".format(image.mode)\n",
    "print(image)"
   ]
  },
  {
   "cell_type": "markdown",
   "metadata": {},
   "source": [
    "### Generating the AES key and permutation key"
   ]
  },
  {
   "cell_type": "code",
   "execution_count": 5,
   "metadata": {},
   "outputs": [],
   "source": [
    "def get_shaHash(data:Union[str, bytes], algorithm:int) -> hex:\n",
    "    \"\"\"\n",
    "    Returns a hex representation of the hashed data using SHA224, SHA256, SHA384, or SHA512\n",
    "    Arguments:\n",
    "    data: \\t the inputted data to be hashed. Expected types: str, and bytes. \n",
    "    algorithm: \\t int representation of which SHA algorithm to use. Will defaults to SHA384.\n",
    "    \"\"\"\n",
    "    shaHash = None\n",
    "    try:\n",
    "        if algorithm == 512:\n",
    "            shaHash = SHA512.new()\n",
    "        elif algorithm == 384:\n",
    "            shaHash = SHA384.new()\n",
    "        elif algorithm == 256:\n",
    "            shaHash = SHA256.new()\n",
    "        elif algorithm == 224:\n",
    "            shaHash = SHA224.new()\n",
    "    except:\n",
    "        pass\n",
    "        \n",
    "    if shaHash == None:\n",
    "        shaHash = SHA384.new()\n",
    "    \n",
    "    shaHash = SHA384.new()\n",
    "    if isinstance(data, str):\n",
    "        try:\n",
    "            bytes(data).decode('utf-8')\n",
    "        except (TypeError, UnicodeDecodeError) as exception:\n",
    "            data = data.encode('utf-8')\n",
    "    shaHash.update(data)\n",
    "    return shaHash.hexdigest()\n",
    "\n",
    "\n",
    "def bytes_toInt(data:bytes) -> int:\n",
    "    if isinstance(data, bytes):\n",
    "        return int.from_bytes(data, 'big')\n",
    "    raise TypeError(\"key is of type {0}, but should be bytes\".format(type(key)))\n",
    "\n",
    "def int_toBytes(data:int):\n",
    "    if isinstance(data, int):\n",
    "        return data.to_bytes((data.bit_length() + 7) // 8, 'big')\n",
    "    elif isinstance(data, bytes):\n",
    "        return data\n",
    "    raise TypeError(\"data is of type {0}, but should be int.\".format(type(key)))\n",
    "\n",
    "# Finds the SHA hash of the passphrase\n",
    "sha_hash = get_shaHash(PASSPHRASE, 384)\n",
    "\n",
    "# SHA hash is broken up into two parts, one is used for AES encryption while the other is used in permutation\n",
    "# Both of these keys are stored as bytes\n",
    "aes_key = int_toBytes(int(sha_hash[0:64], 16))\n",
    "permutation_seed = int_toBytes(int(sha_hash[64:], 16))\n",
    "\n",
    "assert int(sha_hash[0:64], 16) == bytes_toInt(aes_key), \"bytes_toInt(key) does not work correctly.\""
   ]
  },
  {
   "cell_type": "code",
   "execution_count": 6,
   "metadata": {},
   "outputs": [
    {
     "name": "stdout",
     "output_type": "stream",
     "text": [
      "d80816bd0eb4eaa467aff42743551d2c79cae730ddb158a53b28bf110173f46ccd5f393e3b31479ee3e257ae2b187eea\n",
      "33250305945766165614567972043915182779977822373536008717443449554706873132236606284842258673267338903514434791571178\n",
      "1030118783\n"
     ]
    }
   ],
   "source": [
    "c = sha_hash\n",
    "print(c)\n",
    "d = int(c, 16)\n",
    "print(d)\n",
    "e = d % (2**32 - 1)\n",
    "print(e)\n",
    "np.random.seed(e)"
   ]
  },
  {
   "cell_type": "markdown",
   "metadata": {},
   "source": [
    "### Encrypting the message with AES"
   ]
  },
  {
   "cell_type": "code",
   "execution_count": 21,
   "metadata": {},
   "outputs": [],
   "source": [
    "def aes_encrypt(data:Union[str, bytes], key:bytes) -> str:\n",
    "    \"\"\"\n",
    "    Returns a string for an encrypted mesasge using the AES algorithm.\n",
    "    The message is padded with PKCS7 to work with AES.\n",
    "    Arguments:\n",
    "    data: \\t The data to be encrypted. Expected types of string or bytes.\n",
    "    key: \\t The key to be used with the AES algorithm. Expected type of bytes.\n",
    "    \"\"\"\n",
    "    cipher = AES.new(key, AES.MODE_ECB)\n",
    "    padder = padding.PKCS7(BLOCK_SIZE).padder()\n",
    "    if isinstance(data, str):\n",
    "        data = bytes(data)\n",
    "    padded_data = padder.update(data)\n",
    "    padded_data += padder.finalize()\n",
    "    return cipher.encrypt(padded_data)\n",
    "\n"
   ]
  },
  {
   "cell_type": "code",
   "execution_count": null,
   "metadata": {},
   "outputs": [],
   "source": [
    "def aes_decrypt(encrypted_data:bytes, key:bytes) -> str:\n",
    "    \"\"\"\n",
    "    Returns a string for the decrypted message using the AES algorithm.\n",
    "    The padding on the message with PKCS7 is removed.\n",
    "    Arguments:\n",
    "    encrypted_data: \\t The encrypted data using AES. Expected types of bytes.\n",
    "    key: \\t The key to be used with the AES algorithm. Expected type of bytes.\n",
    "    \"\"\"\n",
    "    cipher = AES.new(key, AES.MODE_ECB)\n",
    "    padded_data = cipher.decrypt(encrypted_data)\n",
    "    unpadder = padding.PKCS7(BLOCK_SIZE).unpadder()\n",
    "    data = unpadder.update(padded_data)\n",
    "    data += unpadder.finalize()\n",
    "    return data"
   ]
  },
  {
   "cell_type": "code",
   "execution_count": 8,
   "metadata": {},
   "outputs": [
    {
     "name": "stdout",
     "output_type": "stream",
     "text": [
      "197\n"
     ]
    }
   ],
   "source": [
    "assert aes_decrypt(aes_encrypt(MESSAGE, aes_key), aes_key) == bytes(MESSAGE), \"Decrypt(encrypted_data) does not match the original data.\"\n",
    "\n",
    "encrypted_data = aes_encrypt(MESSAGE, aes_key)\n",
    "num_data_blocks = int(len(encrypted_data) / (BLOCK_SIZE / 8))\n",
    "assert num_data_blocks <= 2**MAX_NUM_BLOCKS_LENGTH, \"Number of data blocks exceeds capacity.\"\n",
    "print(num_data_blocks)\n"
   ]
  },
  {
   "cell_type": "markdown",
   "metadata": {},
   "source": [
    "### Hiding Encrypted Data in Image"
   ]
  },
  {
   "cell_type": "code",
   "execution_count": 9,
   "metadata": {},
   "outputs": [],
   "source": [
    "# Reading the image with OpenCV\n",
    "# Note OpenCV uses the format of pixel = image[y][x]\n",
    "img = cv2.imread(ORIGINAL_IMAGE_PATH)\n",
    "\n",
    "num_blocksX = int(image.size[0] / 8)\n",
    "num_blocksY = int(image.size[1] / 8)\n",
    "total_blocks = num_blocksX * num_blocksY\n",
    "\n",
    "assert num_data_blocks + 2 < total_blocks, \"Error, data is too big for the inputted image. Number of blocks needed = {0}. Number of blocks available = {1}. Please try again with less data, or a bigger image.\".format(num_data_blocks + 2, total_blocks)\n",
    "\n",
    "# Tracking blocks that have been visited\n",
    "# -1 = header block\n",
    "# 0  = not visited\n",
    "# 1  = visited\n",
    "blocks_used = np.zeros((num_blocksY, num_blocksX))  #assigning Zeros to all the blocks first"
   ]
  },
  {
   "cell_type": "code",
   "execution_count": 10,
   "metadata": {},
   "outputs": [
    {
     "name": "stdout",
     "output_type": "stream",
     "text": [
      "29035879622574208841602797001976546678430449296620076083035834650165817742032306179209201031564640884269426194869063 b'\\xcd_9>;1G\\x9e\\xe3\\xe2W\\xae+\\x18~\\xea'\n"
     ]
    }
   ],
   "source": [
    "# Establish header blocks\n",
    "\n",
    "num_iterations = 1\n",
    "\n",
    "# Using the permutation_seed select the first header block\n",
    "permutation_value = int(get_shaHash(permutation_seed, 512), 16)\n",
    "block_index = permutation_value % total_blocks\n",
    "blockX = block_index % num_blocksX\n",
    "blockY = int(block_index / num_blocksX)\n",
    "blocks_used[blockY, blockX] = -1\n",
    "\n",
    "# Using data from the first block, update the permutation_seed\n",
    "pixelX_start = blockX * 8\n",
    "pixelX_curr = pixelX_start\n",
    "\n",
    "pixelY_start = blockY * 8\n",
    "pixelY_curr = pixelY_start\n",
    "\n",
    "print(permutation_value, permutation_seed)\n",
    "\n",
    "update_seed_data = str(num_iterations)\n",
    "for i in range(8):\n",
    "    pixel = img[pixelY_curr + i][pixelX_curr + i]\n",
    "    update_seed_data = update_seed_data + str(pixel[0] % 100) + str(pixel[1] % 100) + str(pixel[2] % 100)    \n",
    "permutation_seed = int_toBytes(int(update_seed_data) ^ bytes_toInt(permutation_seed))"
   ]
  },
  {
   "cell_type": "code",
   "execution_count": 11,
   "metadata": {},
   "outputs": [],
   "source": [
    "# Using the updated permutation seed, find the second header block\n",
    "found_block = False\n",
    "while not found_block:\n",
    "    num_iterations += 1\n",
    "    permutation_value = int(get_shaHash(permutation_seed, 512), 16)\n",
    "    block_index = permutation_value % total_blocks\n",
    "    blockX = block_index % num_blocksX\n",
    "    blockY = int(block_index / num_blocksX)\n",
    "    if blocks_used[blockY][blockX] == 0:\n",
    "        found_block = True\n",
    "        blocks_used[blockY][blockX] = -1\n",
    "    else:\n",
    "        permutation_seed = int_toBytes(bytes_toInt(permutation_seed) + num_iterations)\n",
    "        \n",
    "# Hides the number of data blocks there are the pixels 17-31\n",
    "num_data_blocks = format(num_data_blocks, \"#0{0}b\".format(MAX_NUM_BLOCKS_LENGTH + 2))\n",
    "rgb_index = permutation_value % 3\n",
    "\n",
    "pixelX_start = blockX * 8\n",
    "pixelX_curr = pixelX_start\n",
    "\n",
    "pixelY_start = blockY * 8\n",
    "pixelY_curr = pixelY_start\n",
    "\n",
    "update_seed_data = str(num_iterations)\n",
    "for i in range(8):\n",
    "    pixel = img[pixelY_curr][pixelX_curr + 1]\n",
    "    update_seed_data = update_seed_data + str(pixel[0] % 100) + str(pixel[1] % 100) + str(pixel[2] % 100)\n",
    "\n",
    "pixelY_curr += 2\n",
    "for char in num_data_blocks[2:]:\n",
    "    pixel = img[pixelY_curr][pixelX_curr]\n",
    "    pixel[rgb_index] = pixel[rgb_index] & ~1 | int(char)\n",
    "    img[pixelY_curr][pixelX_curr] = pixel\n",
    "    rgb_index = (rgb_index + 1) % 3\n",
    "    pixelX_curr += 1\n",
    "    if pixelX_curr % 8 == 0:\n",
    "        pixelX_curr = pixelX_start\n",
    "        pixelY_curr += 1"
   ]
  },
  {
   "cell_type": "code",
   "execution_count": 12,
   "metadata": {},
   "outputs": [
    {
     "data": {
      "text/plain": [
       "True"
      ]
     },
     "execution_count": 12,
     "metadata": {},
     "output_type": "execute_result"
    }
   ],
   "source": [
    "# Hiding the encrypted data in the image\n",
    "data = format(bytes_toInt(encrypted_data), \"#0{0}b\".format((len(encrypted_data) * 8) + 2))[2:]\n",
    "\n",
    "for i in range(int(int(num_data_blocks, 2) * BLOCK_SIZE / 64)):\n",
    "    # Finding a block to use\n",
    "    found_block = False\n",
    "    while not found_block:\n",
    "        num_iterations += 1\n",
    "        permutation_value = int(get_shaHash(permutation_seed, 512), 16)\n",
    "        block_index = permutation_value % total_blocks\n",
    "        blockX = block_index % num_blocksX\n",
    "        blockY = int(block_index / num_blocksX)\n",
    "        if blocks_used[blockY][blockX] == 0:\n",
    "            found_block = True\n",
    "            blocks_used[blockY][blockX] = 1\n",
    "        else:\n",
    "            permutation_seed = int_toBytes(bytes_toInt(permutation_seed) + num_iterations)\n",
    "    rgb_index = permutation_value % 3\n",
    "    pixelX_start = blockX * 8\n",
    "    pixelX_curr = pixelX_start\n",
    "    pixelY_start = blockY * 8\n",
    "    pixelY_curr = pixelY_start\n",
    "    \n",
    "    \n",
    "    update_seed_data = str(num_iterations)\n",
    "    y = list(np.random.permutation(64))\n",
    "    for i in range(64):\n",
    "        a = int(y[i] / 8)\n",
    "        b = int(y[i] % 8)\n",
    "        pixelX_curr = a + pixelX_start\n",
    "        pixelY_curr = b + pixelY_start\n",
    "        pixel = img[pixelY_curr][pixelX_curr]\n",
    "        pixel[rgb_index] = pixel[rgb_index] & ~1 | int(data[0])\n",
    "        img[pixelY_curr][pixelX_curr] = pixel\n",
    "        data = data[1:]\n",
    "        if pixelX_curr == pixelY_curr:\n",
    "            update_seed_data = update_seed_data + str(pixel[0] % 100) + str(pixel[1] % 100) + str(pixel[2] % 100)\n",
    "        rgb_index = (rgb_index + 1) % 3\n",
    "        \n",
    "        \n",
    "    permutation_seed = int_toBytes(int(update_seed_data) ^ bytes_toInt(permutation_seed))\n",
    "\n",
    "assert len(data) == 0, \"Some data was not hidden in the image\"\n",
    "cv2.imwrite(MODIFIED_IMAGE_PATH, img)"
   ]
  },
  {
   "cell_type": "code",
   "execution_count": 13,
   "metadata": {},
   "outputs": [
    {
     "name": "stdout",
     "output_type": "stream",
     "text": [
      "[54, 48, 63, 0, 13, 36, 34, 28, 25, 31, 6, 9, 26, 20, 19, 7, 32, 59, 22, 61, 16, 11, 50, 52, 30, 56, 39, 53, 8, 45, 15, 1, 60, 33, 23, 46, 29, 62, 47, 2, 4, 5, 3, 49, 17, 38, 35, 55, 44, 12, 10, 51, 58, 24, 37, 14, 43, 42, 41, 57, 27, 18, 40, 21]\n"
     ]
    }
   ],
   "source": [
    "y = list(np.random.permutation(64))\n",
    "print(y)"
   ]
  },
  {
   "cell_type": "code",
   "execution_count": null,
   "metadata": {},
   "outputs": [],
   "source": []
  },
  {
   "cell_type": "code",
   "execution_count": null,
   "metadata": {},
   "outputs": [],
   "source": []
  }
 ],
 "metadata": {
  "kernelspec": {
   "display_name": "Python 3",
   "language": "python",
   "name": "python3"
  },
  "language_info": {
   "codemirror_mode": {
    "name": "ipython",
    "version": 3
   },
   "file_extension": ".py",
   "mimetype": "text/x-python",
   "name": "python",
   "nbconvert_exporter": "python",
   "pygments_lexer": "ipython3",
   "version": "3.7.4"
  }
 },
 "nbformat": 4,
 "nbformat_minor": 2
}
